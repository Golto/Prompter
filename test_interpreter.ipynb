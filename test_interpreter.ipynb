{
 "cells": [
  {
   "cell_type": "code",
   "execution_count": 1,
   "metadata": {},
   "outputs": [],
   "source": [
    "from prompter.interpreter.parsing import Parser\n",
    "\n",
    "parser = Parser()"
   ]
  },
  {
   "cell_type": "code",
   "execution_count": 2,
   "metadata": {},
   "outputs": [
    {
     "name": "stdout",
     "output_type": "stream",
     "text": [
      "\n",
      "Type: INFO\n",
      "Params: {}\n",
      "Content:\n",
      "User name is John and wants to see if you can generate images.\n",
      "--------------------------------------------------\n",
      "\n",
      "Type: REASONNING\n",
      "Params: {}\n",
      "Content:\n",
      "Je dois créer une image pour montre mes capacités\n",
      "--------------------------------------------------\n",
      "\n",
      "Type: TEXT\n",
      "Params: {}\n",
      "Content:\n",
      "Oui je peux générer des images:\n",
      "--------------------------------------------------\n",
      "\n",
      "Type: ACTION\n",
      "Params: {'id': 'img001'}\n",
      "Content:\n",
      "A cat at sunset, 1:1 ratio\n",
      "--------------------------------------------------\n",
      "\n",
      "Type: RESULT\n",
      "Params: {'id': 'img001', 'name': '\"NOT_HERE\"'}\n",
      "Content:\n",
      "Image created at `images/cat.png`\n",
      "--------------------------------------------------\n",
      "\n",
      "Type: TEXT\n",
      "Params: {}\n",
      "Content:\n",
      "J'ai crée une image de chat dans votre répertoire `images/cat.png`\n",
      "--------------------------------------------------\n",
      "\n",
      "Type: TEST\n",
      "Params: {'name': '\"NOT_HERE\"', 'is_here': 'False'}\n",
      "Content:\n",
      "Ceci est un test\n",
      "--------------------------------------------------\n"
     ]
    }
   ],
   "source": [
    "sample_text = \"\"\"\n",
    "\n",
    "##INFO_START\n",
    "User name is John and wants to see if you can generate images.\n",
    "##INFO_END\n",
    "\n",
    "##REASONNING_START\n",
    "Je dois créer une image pour montre mes capacités\n",
    "##REASONNING_END\n",
    "\n",
    "Oui je peux générer des images:\n",
    "##ACTION_START id=img001\n",
    "A cat at sunset, 1:1 ratio\n",
    "##ACTION_END\n",
    "\n",
    "\n",
    "##RESULT_START id=img001 name=\"NOT_HERE\"\n",
    "Image created at `images/cat.png`\n",
    "##RESULT_END\n",
    "\n",
    "J'ai crée une image de chat dans votre répertoire `images/cat.png`\n",
    "\n",
    "\n",
    "##TEST_START name=\"NOT_HERE\" is_here=False\n",
    "Ceci est un test\n",
    "##TEST_END\n",
    "\n",
    "\"\"\"\n",
    "\n",
    "\n",
    "blocks = parser.parse(sample_text)\n",
    "for block in blocks:\n",
    "    print(f\"\\nType: {block.type}\")\n",
    "    print(f\"Params: {block.params}\")\n",
    "    print(f\"Content:\\n{block.content}\")\n",
    "    print(\"-\" * 50)"
   ]
  },
  {
   "cell_type": "markdown",
   "metadata": {},
   "source": [
    "---"
   ]
  },
  {
   "cell_type": "code",
   "execution_count": 3,
   "metadata": {},
   "outputs": [],
   "source": [
    "from prompter.interpreter.helper import BlockHelper\n"
   ]
  },
  {
   "cell_type": "code",
   "execution_count": 4,
   "metadata": {},
   "outputs": [
    {
     "name": "stdout",
     "output_type": "stream",
     "text": [
      "##EXAMPLE_START is_a_test=True\n",
      "This is an example block.\n",
      "##EXAMPLE_END\n"
     ]
    }
   ],
   "source": [
    "print(\n",
    "    BlockHelper.create_block(\n",
    "        block_type=\"EXAMPLE\",\n",
    "        content=\"This is an example block.\",\n",
    "        params={\n",
    "            \"is_a_test\": True\n",
    "        }\n",
    "    )\n",
    ")"
   ]
  },
  {
   "cell_type": "markdown",
   "metadata": {},
   "source": [
    "---"
   ]
  },
  {
   "cell_type": "code",
   "execution_count": 5,
   "metadata": {},
   "outputs": [
    {
     "name": "stdout",
     "output_type": "stream",
     "text": [
      "Created block: ##ACTION_START id=img001\n",
      "Generate image\n",
      "##ACTION_END\n",
      "Results: ['##RESULT_START id=img001\\nGenerated image from: Generate image\\n##RESULT_END']\n"
     ]
    }
   ],
   "source": [
    "from typing import Dict\n",
    "from prompter.interpreter.evaluator import Evaluator, ActionRegistry, ActionHandler\n",
    "\n",
    "\n",
    "# Création d'un bloc avec le helper\n",
    "action_block = BlockHelper.create_action(\"Generate image\", \"img001\")\n",
    "print(\"Created block:\", action_block)\n",
    "\n",
    "# Configuration du registre\n",
    "registry = ActionRegistry()\n",
    "\n",
    "class ImageHandler(ActionHandler):\n",
    "    # Exemple de fonction de traitement\n",
    "    def handle(self, content: str, params: Dict[str, str]) -> str:\n",
    "        return f\"Generated image from: {content}\"\n",
    "\n",
    "registry.register(\"default\", ImageHandler())\n",
    "\n",
    "# Création de l'evaluator\n",
    "evaluator = Evaluator(registry)\n",
    "\n",
    "# Parse et évalue les blocs\n",
    "parser = Parser()\n",
    "blocks = parser.parse(action_block)\n",
    "results = evaluator.evaluate_blocks(blocks)\n",
    "\n",
    "print(\"Results:\", results)"
   ]
  },
  {
   "cell_type": "code",
   "execution_count": 6,
   "metadata": {},
   "outputs": [
    {
     "data": {
      "text/plain": [
       "ActionRegistry(handlers=[default: <ImageHandler()>])"
      ]
     },
     "execution_count": 6,
     "metadata": {},
     "output_type": "execute_result"
    }
   ],
   "source": [
    "evaluator.registry"
   ]
  },
  {
   "cell_type": "code",
   "execution_count": 7,
   "metadata": {},
   "outputs": [
    {
     "data": {
      "text/plain": [
       "ActionContext(used_ids=[img001], results=[img001: Generated image from: Generate image])"
      ]
     },
     "execution_count": 7,
     "metadata": {},
     "output_type": "execute_result"
    }
   ],
   "source": [
    "evaluator.context"
   ]
  },
  {
   "cell_type": "markdown",
   "metadata": {},
   "source": [
    "---"
   ]
  },
  {
   "cell_type": "code",
   "execution_count": 8,
   "metadata": {},
   "outputs": [],
   "source": [
    "sample_text = \"\"\"\n",
    "\n",
    "##ACTION_START type=goto id=redirect001\n",
    "Ixabel, the user wants to start a project named 'python_compiler'. Can you assist with setting up the project directory and initial files?\n",
    "##ACTION_END\n",
    "\n",
    "##ACTION_START id=redirect002\n",
    "{\n",
    "    \"action\": \"goto\",\n",
    "    \"prompt\": \"Ixabel, the user wants to start a project named 'python_compiler'. Can you assist with setting up the project directory and initial files?\"\n",
    "}\n",
    "##ACTION_END\n",
    "\n",
    "\"\"\""
   ]
  },
  {
   "cell_type": "code",
   "execution_count": 9,
   "metadata": {},
   "outputs": [],
   "source": [
    "import json\n",
    "\n"
   ]
  },
  {
   "cell_type": "code",
   "execution_count": 10,
   "metadata": {},
   "outputs": [
    {
     "data": {
      "text/plain": [
       "ActionRegistry(handlers=[default: <DefaultHandler()>, image: <ImageHandler()>, goto: <GotoHandler()>])"
      ]
     },
     "execution_count": 10,
     "metadata": {},
     "output_type": "execute_result"
    }
   ],
   "source": [
    "# Configuration du registre\n",
    "registry = ActionRegistry()\n",
    "\n",
    "# Exemple de traitement\n",
    "class DefaultHandler(ActionHandler):\n",
    "    # Exemple de fonction de traitement\n",
    "    def handle(self, content: str, params: Dict[str, str]) -> str:\n",
    "        try:\n",
    "            return json.loads(content)\n",
    "        except:\n",
    "            return f\"[ERROR JSON] Default from: {content}\"\n",
    "    \n",
    "class ImageHandler(ActionHandler):\n",
    "    # Exemple de fonction de traitement\n",
    "    def handle(self, content: str, params: Dict[str, str]) -> str:\n",
    "        return f\"Generated image from: {content}\"\n",
    "\n",
    "class GotoHandler(ActionHandler):\n",
    "    # Exemple de fonction de traitement\n",
    "    def handle(self, content: str, params: Dict[str, str]) -> str:\n",
    "        return f\"Go to Agent from: {content}\"\n",
    "\n",
    "registry.register(\"default\", DefaultHandler())\n",
    "registry.register(\"image\", ImageHandler())\n",
    "registry.register(\"goto\", GotoHandler())\n",
    "\n",
    "registry"
   ]
  },
  {
   "cell_type": "code",
   "execution_count": 11,
   "metadata": {},
   "outputs": [
    {
     "name": "stdout",
     "output_type": "stream",
     "text": [
      "Block(type='ACTION', content=\"Ixabel, the user wants to start a project named 'python_compiler'. Can you assist with setting up the project directory and initial files?\", params={'type': 'goto', 'id': 'redirect001'}, start_pos=2, end_pos=193)\n",
      "##RESULT_START id=redirect001\n",
      "Go to Agent from: Ixabel, the user wants to start a project named 'python_compiler'. Can you assist with setting up the project directory and initial files?\n",
      "##RESULT_END\n",
      "\n",
      "Block(type='ACTION', content='{\\n    \"action\": \"goto\",\\n    \"prompt\": \"Ixabel, the user wants to start a project named \\'python_compiler\\'. Can you assist with setting up the project directory and initial files?\"\\n}', params={'id': 'redirect002'}, start_pos=195, end_pos=418)\n",
      "##RESULT_START id=redirect002\n",
      "{'action': 'goto', 'prompt': \"Ixabel, the user wants to start a project named 'python_compiler'. Can you assist with setting up the project directory and initial files?\"}\n",
      "##RESULT_END\n",
      "\n"
     ]
    }
   ],
   "source": [
    "# Création de l'evaluator\n",
    "evaluator = Evaluator(registry)\n",
    "\n",
    "# Parse et évalue les blocs\n",
    "parser = Parser()\n",
    "blocks = parser.parse(sample_text)\n",
    "results = evaluator.evaluate_blocks(blocks)\n",
    "for block, result in zip(blocks, results):\n",
    "    print(block)\n",
    "    print(result)\n",
    "    print()"
   ]
  },
  {
   "cell_type": "markdown",
   "metadata": {},
   "source": [
    "---\n"
   ]
  },
  {
   "cell_type": "code",
   "execution_count": 12,
   "metadata": {},
   "outputs": [],
   "source": [
    "from prompter.interpreter.interpreter import Interpreter"
   ]
  },
  {
   "cell_type": "code",
   "execution_count": 13,
   "metadata": {},
   "outputs": [
    {
     "name": "stdout",
     "output_type": "stream",
     "text": [
      "['##RESULT_START id=test001\\nWARNING: No default handler registered for action with content: Test action\\n##RESULT_END']\n"
     ]
    }
   ],
   "source": [
    "# Création de l'interpréteur avec le handler par défaut\n",
    "interpreter = Interpreter()\n",
    "\n",
    "\n",
    "test_block = BlockHelper.create_action(\"Test action\", \"test001\")\n",
    "test_block_result = BlockHelper.create_result(\"Test result\", \"test001\")\n",
    "\n",
    "custom_block = BlockHelper.create_block(\n",
    "    \"ACTION\",\n",
    "    \"Some custom action\",\n",
    "    {\"id\": \"custom001\", \"type\": \"custom\"}\n",
    ")\n",
    "\n",
    "sample_text = f\"\"\"\n",
    "Bonjour !\n",
    "{test_block}\n",
    "\"\"\"\n",
    "\n",
    "\n",
    "# Interprétation\n",
    "results = interpreter.interpret(sample_text)\n",
    "print(results)  # Affichera le warning du default_handler\n",
    "\n",
    "interpreter.clear_context()\n",
    "\n"
   ]
  },
  {
   "cell_type": "code",
   "execution_count": 14,
   "metadata": {},
   "outputs": [
    {
     "name": "stdout",
     "output_type": "stream",
     "text": [
      "\n",
      "Bonjour !\n",
      "##ACTION_START id=test001\n",
      "Test action\n",
      "##ACTION_END\n",
      "\n",
      "##RESULT_START id=test001\n",
      "Test result\n",
      "##RESULT_END\n",
      "\n",
      "Here the custom block\n",
      "##ACTION_START id=custom001 type=custom\n",
      "Some custom action\n",
      "##ACTION_END\n",
      "\n",
      "--------------------\n",
      "##RESULT_START id=custom001\n",
      "Custom handling of: Some custom action\n",
      "##RESULT_END\n",
      "\n"
     ]
    }
   ],
   "source": [
    "sample_text = f\"\"\"\n",
    "Bonjour !\n",
    "{test_block}\n",
    "\n",
    "{test_block_result}\n",
    "\n",
    "Here the custom block\n",
    "{custom_block}\n",
    "\"\"\"\n",
    "print(sample_text)\n",
    "\n",
    "# Ajout d'un handler personnalisé\n",
    "class CustomHandler(ActionHandler):\n",
    "    def handle(self, content: str, params: Dict[str, str]) -> str:\n",
    "        return f\"Custom handling of: {content}\"\n",
    "\n",
    "interpreter.register_handler(\"custom\", CustomHandler())\n",
    "\n",
    "\n",
    "# Nouvelle interprétation\n",
    "results = interpreter.interpret(sample_text)\n",
    "# Affichera le résultat du custom_handler\n",
    "print(\"-\" * 20)\n",
    "for res in results:\n",
    "    print(res, end='\\n\\n')"
   ]
  },
  {
   "cell_type": "markdown",
   "metadata": {},
   "source": [
    "---\n",
    "---"
   ]
  },
  {
   "cell_type": "code",
   "execution_count": 15,
   "metadata": {},
   "outputs": [
    {
     "name": "stdout",
     "output_type": "stream",
     "text": [
      "##ERROR_START\n",
      "Error executing action: No handler registered for action type 'does_not_exist'\n",
      "> Make sure to use an available `type` parameter.\n",
      "##ERROR_END\n",
      "\n",
      "##RESULT_START id=img0001\n",
      "Call handling of: Generate an image of a cat\n",
      "##RESULT_END\n",
      "\n",
      "##RESULT_START id=help0001\n",
      "Error executing action: Some error during HELP Action handling.\n",
      "##RESULT_END\n",
      "\n"
     ]
    }
   ],
   "source": [
    "from prompter.interpreter import Interpreter, ActionRegistry, ActionHandler, BlockHelper\n",
    "\n",
    "sample_text = \"\"\"\n",
    "Bonjour !\n",
    "\n",
    "##ACTION_START type=does_not_exist id=test0001\n",
    "This type does not exist\n",
    "##ACTION_END\n",
    "\n",
    "##ACTION_START type=call id=img0001\n",
    "Generate an image of a cat\n",
    "##ACTION_END\n",
    "\n",
    "##ACTION_START type=call id=img0001\n",
    "Ignored due to same id\n",
    "##ACTION_END\n",
    "\n",
    "##ACTION_START type=help id=help0001\n",
    "I need help with ...\n",
    "##ACTION_END\n",
    "\n",
    "\"\"\"\n",
    "\n",
    "interpreter = Interpreter(registry=ActionRegistry())\n",
    "\n",
    "class CallHandler(ActionHandler):\n",
    "    def handle(self, content: str, params: Dict[str, str]) -> str:\n",
    "        return f\"Call handling of: {content}\"\n",
    "    \n",
    "class HelpHandler(ActionHandler):\n",
    "    def handle(self, content: str, params: Dict[str, str]) -> str:\n",
    "        raise RuntimeError(\"Some error during HELP Action handling.\")\n",
    "    \n",
    "interpreter.register_handler(\"call\", CallHandler())\n",
    "interpreter.register_handler(\"help\", HelpHandler())\n",
    "\n",
    "results = interpreter.interpret(sample_text)\n",
    "for result in results:\n",
    "    print(result, end=\"\\n\" * 2)"
   ]
  }
 ],
 "metadata": {
  "kernelspec": {
   "display_name": "Python 3",
   "language": "python",
   "name": "python3"
  },
  "language_info": {
   "codemirror_mode": {
    "name": "ipython",
    "version": 3
   },
   "file_extension": ".py",
   "mimetype": "text/x-python",
   "name": "python",
   "nbconvert_exporter": "python",
   "pygments_lexer": "ipython3",
   "version": "3.11.9"
  }
 },
 "nbformat": 4,
 "nbformat_minor": 2
}
