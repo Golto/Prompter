{
 "cells": [
  {
   "cell_type": "code",
   "execution_count": 1,
   "metadata": {},
   "outputs": [],
   "source": [
    "from prompter.builder.loader import Loader"
   ]
  },
  {
   "cell_type": "code",
   "execution_count": 2,
   "metadata": {},
   "outputs": [
    {
     "name": "stdout",
     "output_type": "stream",
     "text": [
      "Content of agents/main.md:\n",
      "@__symbol__:beginning\n",
      "@__symbol__:guidelines\n",
      "@__symbol__:end\n",
      "\n",
      "@__parameter__:temp_debug\n",
      "\n",
      "Path to beginning.md: c:\\Users\\Propriétaire\\Documents\\Projets\\golpex\\golpexAPI\\testing_prompt_parser\\prompter\\builder\\prompts\\agents\\tinia\\beginning.md\n"
     ]
    }
   ],
   "source": [
    "loader = Loader()\n",
    "\n",
    "\n",
    "# Lire un prompt\n",
    "content = loader.read_prompt(\"agents/main.md\")\n",
    "if content:\n",
    "    print(\"Content of agents/main.md:\")\n",
    "    print(content)\n",
    "else:\n",
    "    print(\"File not found\")\n",
    "\n",
    "# Obtenir le chemin absolu d'un prompt\n",
    "path = loader.get_prompt_path(\"agents/tinia/beginning.md\")\n",
    "print(f\"\\nPath to beginning.md: {path}\")"
   ]
  },
  {
   "cell_type": "code",
   "execution_count": 3,
   "metadata": {},
   "outputs": [
    {
     "name": "stdout",
     "output_type": "stream",
     "text": [
      "Line 1: @__symbol__:beginning\n",
      "  Flag name: symbol\n",
      "  Var name: beginning\n",
      "\n",
      "Line 2: @__symbol__:guidelines\n",
      "  Flag name: symbol\n",
      "  Var name: guidelines\n",
      "\n",
      "Line 3: @__symbol__:end\n",
      "  Flag name: symbol\n",
      "  Var name: end\n",
      "\n",
      "Line 5: @__parameter__:temp_debug\n",
      "  Flag name: parameter\n",
      "  Var name: temp_debug\n",
      "\n"
     ]
    }
   ],
   "source": [
    "from prompter.builder.analyzer import Analyzer, Flag\n",
    "\n",
    "analyzer = Analyzer()\n",
    "flags = analyzer.list_flags(\"agents/main.md\")\n",
    "\n",
    "for flag in flags:\n",
    "    print(f\"Line {flag.line_number}: {flag.full_match}\")\n",
    "    print(f\"  Flag name: {flag.name}\")\n",
    "    print(f\"  Var name: {flag.var_name}\\n\")"
   ]
  },
  {
   "cell_type": "markdown",
   "metadata": {},
   "source": [
    "---"
   ]
  },
  {
   "cell_type": "code",
   "execution_count": 4,
   "metadata": {},
   "outputs": [],
   "source": [
    "from prompter.builder.linker import Linker"
   ]
  },
  {
   "cell_type": "code",
   "execution_count": 5,
   "metadata": {},
   "outputs": [
    {
     "data": {
      "text/plain": [
       "'agents/{agent_name}/end.md'"
      ]
     },
     "execution_count": 5,
     "metadata": {},
     "output_type": "execute_result"
    }
   ],
   "source": [
    "linker = Linker()\n",
    "linker.get_template_for_flag(Flag(\"symbol\", \"end\", 0, \"@__symbol__:end\"))"
   ]
  },
  {
   "cell_type": "code",
   "execution_count": 6,
   "metadata": {},
   "outputs": [
    {
     "name": "stdout",
     "output_type": "stream",
     "text": [
      "File: agents/main.md\n",
      "Flags: {'guidelines', 'beginning', 'end', 'temp_debug'}\n",
      "Required parameters: {'agent_name': <class 'str'>, 'temp_debug': <class 'str'>}\n",
      "Dependencies: {'agents/guidelines.md', 'agents/{agent_name}/end.md', 'agents/{agent_name}/beginning.md'}\n"
     ]
    }
   ],
   "source": [
    "linker = Linker()\n",
    "dep = linker.analyze_dependencies(\"agents/main.md\")\n",
    "\n",
    "print(f\"File: {dep.path}\")\n",
    "print(f\"Flags: {dep.flags}\")\n",
    "print(f\"Required parameters: {dep.params}\")\n",
    "print(f\"Dependencies: {dep.dependencies}\")"
   ]
  },
  {
   "cell_type": "code",
   "execution_count": 7,
   "metadata": {},
   "outputs": [
    {
     "name": "stdout",
     "output_type": "stream",
     "text": [
      "File: debug/main.md\n",
      "Flags: {'debug_username', 'debug_general', 'debug_version'}\n",
      "Required parameters: {'debug_username': <class 'str'>}\n",
      "Dependencies: {'debug/info/version.md', 'debug/info/general.md'}\n",
      "\n",
      "File: debug/info/general.md\n",
      "Flags: {'debug_name'}\n",
      "Required parameters: {}\n",
      "Dependencies: {'debug/info/name.md'}\n"
     ]
    }
   ],
   "source": [
    "linker = Linker()\n",
    "dep = linker.analyze_dependencies(\"debug/main.md\")\n",
    "\n",
    "print(f\"File: {dep.path}\")\n",
    "print(f\"Flags: {dep.flags}\")\n",
    "print(f\"Required parameters: {dep.params}\")\n",
    "print(f\"Dependencies: {dep.dependencies}\")\n",
    "\n",
    "print()\n",
    "dep = linker.analyze_dependencies(\"debug/info/general.md\")\n",
    "\n",
    "print(f\"File: {dep.path}\")\n",
    "print(f\"Flags: {dep.flags}\")\n",
    "print(f\"Required parameters: {dep.params}\")\n",
    "print(f\"Dependencies: {dep.dependencies}\")"
   ]
  },
  {
   "cell_type": "markdown",
   "metadata": {},
   "source": [
    "---"
   ]
  },
  {
   "cell_type": "code",
   "execution_count": 8,
   "metadata": {},
   "outputs": [
    {
     "data": {
      "text/plain": [
       "'agents/tinia/end.md'"
      ]
     },
     "execution_count": 8,
     "metadata": {},
     "output_type": "execute_result"
    }
   ],
   "source": [
    "'agents/{agent_name}/end.md'.format(**{\"agent_name\": \"tinia\"})"
   ]
  },
  {
   "cell_type": "markdown",
   "metadata": {},
   "source": [
    "---"
   ]
  },
  {
   "cell_type": "code",
   "execution_count": 9,
   "metadata": {},
   "outputs": [],
   "source": [
    "from prompter.builder.builder import PromptBuilder, PromptBuildError"
   ]
  },
  {
   "cell_type": "code",
   "execution_count": 10,
   "metadata": {},
   "outputs": [
    {
     "name": "stdout",
     "output_type": "stream",
     "text": [
      "Your name is `Tinia`, specialized as `Communicator`.\n",
      "You are an assistant from the Golpex project who can execute actions by generating a specific format called ACTION. This format allows you to trigger actions by clearly describing them. The actions you generate must be properly delimited, follow strict rules, and include explicit parameters.\n",
      "\n",
      "---\n",
      "\n",
      "# **Instructions for you, the assistant:**\n",
      "\n",
      "1. **ACTION format structure:**\n",
      "   Each action must respect this structure:\n",
      "\n",
      "```bash\n",
      "##ACTION_START type=<action_name> id=<uniqueID>\n",
      "<description>\n",
      "##ACTION_END\n",
      "```\n",
      "\n",
      "2. **Parameter details:**\n",
      "\n",
      "- **`id`**:\n",
      "  - Provide a unique identifier for each action. For example: `img001`, `calc123`.\n",
      "  - This identifier is necessary to avoid repeating actions.\n",
      "- **`type`**:\n",
      "  - Provide a name for each action. For example: `call`, `help`.\n",
      "\n",
      "\n",
      "3. **General rules:**\n",
      "\n",
      "- Each action must be self-contained between `##ACTION_START` and `##ACTION_END`.\n",
      "- Once you have generated `##ACTION_END`, wait for the system to return before continuing the generation.\n",
      "\n",
      "4. **Results received:**\n",
      "   When an action is executed, you will receive a result block structured like this:\n",
      "\n",
      "```bash\n",
      "##RESULT_START id=<uniqueID>\n",
      "<detail or result>\n",
      "##RESULT_END\n",
      "```\n",
      "\n",
      "5. **After receiving a result:**\n",
      "\n",
      "- Use the information in the result to adjust your response.\n",
      "- Do not regenerate an action for an `id` that has already been processed.\n",
      "\n",
      "## Available Actions\n",
      "\n",
      "### System function calling\n",
      "- **call**: allows you to execute a system function and return a result.\n",
      "\n",
      "```bash\n",
      "##ACTION_START type=call id=<uniqueID>\n",
      "generate an image of ...\n",
      "##ACTION_END\n",
      "```\n",
      "### Database related\n",
      "- **help**: retrieves information based on a query from a database.\n",
      "```bash\n",
      "##ACTION_START type=help id=<uniqueID>\n",
      "What are my available system functions?\n",
      "##ACTION_END\n",
      "```\n",
      "- **save**: saves the information given in `prompt` in a database.\n",
      "```bash\n",
      "##ACTION_START type=save id=<uniqueID>\n",
      "As I was helping user, I created ...\n",
      "##ACTION_END\n",
      "```\n",
      "### Agent related\n",
      "- **ask**: allows you to chat with another agent.\n",
      "- **goto**: redirects the user to another more suitable agent.\n",
      "\n",
      "## Reasonning\n",
      "\n",
      "You can think and generate text that is not relevant to the user but is actually useful to you. For this, you can use:\n",
      "```bash\n",
      "##REASONNING_START\n",
      "<string>\n",
      "##REASONNING_END\n",
      "```\n",
      "\n",
      "\n",
      "test\n"
     ]
    }
   ],
   "source": [
    "builder = PromptBuilder()\n",
    "\n",
    "try:\n",
    "    # Construction d'un prompt système pour l'agent tinia\n",
    "    prompt = builder.build(\"system_prompt\", agent_name=\"tinia\", temp_debug=\"test\")\n",
    "    print(prompt)\n",
    "    \n",
    "except PromptBuildError as e:\n",
    "    print(\"Error building prompt:\")\n",
    "    print(e)"
   ]
  },
  {
   "cell_type": "code",
   "execution_count": null,
   "metadata": {},
   "outputs": [
    {
     "name": "stdout",
     "output_type": "stream",
     "text": [
      "**Version:** 1.0.0\n",
      "This is a general documentation.\n",
      "Project is named Golpex\n",
      "User name is golto\n"
     ]
    }
   ],
   "source": [
    "try:\n",
    "    prompt = builder.build(\"debug_prompt\", debug_username=\"golto\")\n",
    "    print(prompt)\n",
    "    \n",
    "except PromptBuildError as e:\n",
    "    print(\"Error building prompt:\")\n",
    "    print(e)"
   ]
  },
  {
   "cell_type": "code",
   "execution_count": 12,
   "metadata": {},
   "outputs": [
    {
     "name": "stdout",
     "output_type": "stream",
     "text": [
      "Je voudrais une image de chat. (Think before answering)\n"
     ]
    }
   ],
   "source": [
    "try:\n",
    "    prompt = builder.build(\"input_prompt\", input=\"Je voudrais une image de chat.\")\n",
    "    print(prompt)\n",
    "    \n",
    "except PromptBuildError as e:\n",
    "    print(\"Error building prompt:\")\n",
    "    print(e)"
   ]
  },
  {
   "cell_type": "code",
   "execution_count": null,
   "metadata": {},
   "outputs": [],
   "source": [
    "from prompter.builder import PromptBuilder"
   ]
  }
 ],
 "metadata": {
  "kernelspec": {
   "display_name": "Python 3",
   "language": "python",
   "name": "python3"
  },
  "language_info": {
   "codemirror_mode": {
    "name": "ipython",
    "version": 3
   },
   "file_extension": ".py",
   "mimetype": "text/x-python",
   "name": "python",
   "nbconvert_exporter": "python",
   "pygments_lexer": "ipython3",
   "version": "3.11.9"
  }
 },
 "nbformat": 4,
 "nbformat_minor": 2
}
